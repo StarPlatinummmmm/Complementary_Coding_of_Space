{
 "cells": [
  {
   "cell_type": "code",
   "execution_count": 9,
   "metadata": {},
   "outputs": [
    {
     "name": "stdout",
     "output_type": "stream",
     "text": [
      "1.7724538509055159\n",
      "1.7724538509055159\n"
     ]
    }
   ],
   "source": [
    "import numpy as np\n",
    "import math\n",
    "tmp = np.sqrt(math.pi)\n",
    "print(tmp)\n",
    "tmp = np.sqrt(np.pi)\n",
    "print(tmp)\n"
   ]
  },
  {
   "cell_type": "code",
   "execution_count": 10,
   "metadata": {},
   "outputs": [
    {
     "name": "stdout",
     "output_type": "stream",
     "text": [
      "[ 98.5   98.5   98.5   98.5   98.5   98.5   98.5   98.5   98.5   98.5\n",
      "  98.5   98.5   98.5   98.5   98.5   98.5   98.5   98.5   98.5   98.5\n",
      "  98.75  98.75  98.75  98.75  98.75  98.75  98.75  98.75  98.75  98.75\n",
      "  98.75  98.75  98.75  98.75  98.75  98.75  98.75  98.75  98.75  98.75\n",
      "  99.    99.    99.    99.    99.    99.    99.    99.    99.    99.\n",
      "  99.    99.    99.    99.    99.    99.    99.    99.    99.    99.\n",
      "  99.25  99.25  99.25  99.25  99.25  99.25  99.25  99.25  99.25  99.25\n",
      "  99.25  99.25  99.25  99.25  99.25  99.25  99.25  99.25  99.25  99.25\n",
      "  99.5   99.5   99.5   99.5   99.5   99.5   99.5   99.5   99.5   99.5\n",
      "  99.5   99.5   99.5   99.5   99.5   99.5   99.5   99.5   99.5   99.5\n",
      "  99.75  99.75  99.75  99.75  99.75  99.75  99.75  99.75  99.75  99.75\n",
      "  99.75  99.75  99.75  99.75  99.75  99.75  99.75  99.75  99.75  99.75\n",
      " 100.   100.   100.   100.   100.   100.   100.   100.   100.   100.\n",
      " 100.   100.   100.   100.   100.   100.   100.   100.   100.   100.\n",
      " 100.25 100.25 100.25 100.25 100.25 100.25 100.25 100.25 100.25 100.25\n",
      " 100.25 100.25 100.25 100.25 100.25 100.25 100.25 100.25 100.25 100.25\n",
      " 100.5  100.5  100.5  100.5  100.5  100.5  100.5  100.5  100.5  100.5\n",
      " 100.5  100.5  100.5  100.5  100.5  100.5  100.5  100.5  100.5  100.5\n",
      " 100.75 100.75 100.75 100.75 100.75 100.75 100.75 100.75 100.75 100.75\n",
      " 100.75 100.75 100.75 100.75 100.75 100.75 100.75 100.75 100.75 100.75\n",
      " 101.   101.   101.   101.   101.   101.   101.   101.   101.   101.\n",
      " 101.   101.   101.   101.   101.   101.   101.   101.   101.   101.\n",
      " 101.25 101.25 101.25 101.25 101.25 101.25 101.25 101.25 101.25 101.25\n",
      " 101.25 101.25 101.25 101.25 101.25 101.25 101.25 101.25 101.25 101.25\n",
      " 101.5  101.5  101.5  101.5  101.5  101.5  101.5  101.5  101.5  101.5\n",
      " 101.5  101.5  101.5  101.5  101.5  101.5  101.5  101.5  101.5  101.5\n",
      " 101.75 101.75 101.75 101.75 101.75 101.75 101.75 101.75 101.75 101.75\n",
      " 101.75 101.75 101.75 101.75 101.75 101.75 101.75 101.75 101.75 101.75\n",
      " 102.   102.   102.   102.   102.   102.   102.   102.   102.   102.\n",
      " 102.   102.   102.   102.   102.   102.   102.   102.   102.   102.\n",
      " 102.25 102.25 102.25 102.25 102.25 102.25 102.25 102.25 102.25 102.25\n",
      " 102.25 102.25 102.25 102.25 102.25 102.25 102.25 102.25 102.25 102.25\n",
      " 102.5  102.5  102.5  102.5  102.5  102.5  102.5  102.5  102.5  102.5\n",
      " 102.5  102.5  102.5  102.5  102.5  102.5  102.5  102.5  102.5  102.5\n",
      " 102.75 102.75 102.75 102.75 102.75 102.75 102.75 102.75 102.75 102.75\n",
      " 102.75 102.75 102.75 102.75 102.75 102.75 102.75 102.75 102.75 102.75\n",
      " 103.   103.   103.   103.   103.   103.   103.   103.   103.   103.\n",
      " 103.   103.   103.   103.   103.   103.   103.   103.   103.   103.\n",
      " 103.25 103.25 103.25 103.25 103.25 103.25 103.25 103.25 103.25 103.25\n",
      " 103.25 103.25 103.25 103.25 103.25 103.25 103.25 103.25 103.25 103.25]\n"
     ]
    }
   ],
   "source": [
    "def generate_array(L=400, k=20, a=98.5):\n",
    "    # Create an array of length L filled with zeros\n",
    "    arr = np.zeros(L)\n",
    "    \n",
    "    # Fill the array according to the specified pattern\n",
    "    for i in range(0, L, k):\n",
    "        arr[i:i+k] = a + (i // k) * 0.25\n",
    "    \n",
    "    return arr\n",
    "\n",
    "# Example usage\n",
    "result = generate_array()\n",
    "print(result)"
   ]
  },
  {
   "cell_type": "code",
   "execution_count": 2,
   "metadata": {},
   "outputs": [],
   "source": [
    "def dist1(phi_1,phi_2):\n",
    "    d = np.abs(phi_1 - phi_2)\n",
    "    d = np.where(d > np.pi, 2 * np.pi - d, d)\n",
    "    return d\n",
    "\n",
    "def dist2(phi_1,phi_2):\n",
    "    dis = phi_1 - phi_2\n",
    "    dis[dis > np.pi] -= 2 * np.pi\n",
    "    dis[dis < -np.pi] += 2 * np.pi\n",
    "    return dis\n",
    "\n",
    "def dist3(phi_1,phi_2):\n",
    "    d = phi_1 - phi_2\n",
    "    d = np.where(d > np.pi, d - 2 * np.pi, d)\n",
    "    d = np.where(d < -np.pi, d + 2 * np.pi, d)\n",
    "    return d\n"
   ]
  },
  {
   "cell_type": "code",
   "execution_count": 3,
   "metadata": {},
   "outputs": [
    {
     "name": "stdout",
     "output_type": "stream",
     "text": [
      "[0.78539816 0.78539816 0.78539816 0.78539816 0.78539816]\n",
      "[-0.78539816 -0.78539816 -0.78539816 -0.78539816 -0.78539816]\n",
      "[-0.78539816 -0.78539816 -0.78539816 -0.78539816 -0.78539816]\n"
     ]
    }
   ],
   "source": [
    "phi_1 = np.array([0, np.pi/2, np.pi, 3*np.pi/2, 2*np.pi])\n",
    "phi_2 = np.array([0, np.pi/2, np.pi, 3*np.pi/2, 2*np.pi]) + np.pi/4\n",
    "print(dist1(phi_1,phi_2))\n",
    "print(dist2(phi_1,phi_2))\n",
    "print(dist3(phi_1,phi_2))"
   ]
  },
  {
   "cell_type": "code",
   "execution_count": 9,
   "metadata": {},
   "outputs": [
    {
     "name": "stdout",
     "output_type": "stream",
     "text": [
      "[[1.  2.  1. ]\n",
      " [1.  2.  2.5]]\n"
     ]
    }
   ],
   "source": [
    "\n",
    "def position2phase_modules(x):\n",
    "    Lphase = 3\n",
    "    lambda_gs = np.array([1, 2, 4])\n",
    "    phi_g = (x[:,None]/lambda_gs ) % Lphase\n",
    "    return phi_g\n",
    "\n",
    "x = np.array([4,10])\n",
    "print(position2phase_modules(x))"
   ]
  },
  {
   "cell_type": "code",
   "execution_count": 15,
   "metadata": {},
   "outputs": [
    {
     "name": "stdout",
     "output_type": "stream",
     "text": [
      "tensor([[[0., 0.],\n",
      "         [2., 2.],\n",
      "         [5., 5.]],\n",
      "\n",
      "        [[0., 0.],\n",
      "         [2., 2.],\n",
      "         [5., 5.]]])\n"
     ]
    }
   ],
   "source": [
    "import torch\n",
    "theta = torch.linspace(-1, 5, 3)\n",
    "theta_expand = theta[None,:,None].expand(2,3,2)\n",
    "# do clamp for the elements of theta_expand\n",
    "theta_clamp = torch.clamp(theta_expand, min=0)\n",
    "print(theta_clamp)"
   ]
  },
  {
   "cell_type": "code",
   "execution_count": 18,
   "metadata": {},
   "outputs": [
    {
     "name": "stdout",
     "output_type": "stream",
     "text": [
      "tensor([[[3., 3.],\n",
      "         [3., 3.],\n",
      "         [3., 3.]],\n",
      "\n",
      "        [[3., 3.],\n",
      "         [3., 3.],\n",
      "         [3., 3.]]])\n",
      "angle shape: torch.Size([2, 3, 2])\n"
     ]
    }
   ],
   "source": [
    "phase = torch.ones([2,3,2])\n",
    "theta = torch.ones([3,2]) *2\n",
    "angle = phase + theta\n",
    "print(angle)\n",
    "print('angle shape:', angle.shape)\n"
   ]
  },
  {
   "cell_type": "code",
   "execution_count": 10,
   "metadata": {},
   "outputs": [
    {
     "name": "stdout",
     "output_type": "stream",
     "text": [
      "(27,)\n",
      "[0.3 5.1 0.1 0.2 5.  0.  1.3 6.1 1.1 0.7 5.5 0.5 0.6 5.4 0.4 1.7 6.5 1.5\n",
      " 0.9 5.7 0.7 0.8 5.6 0.6 1.9 6.7 1.7]\n"
     ]
    }
   ],
   "source": [
    "import numpy as np\n",
    "import itertools\n",
    "\n",
    "\n",
    "def sum_probabilities(prob_matrix):\n",
    "    n, m = prob_matrix.shape\n",
    "    # Generate all possible index combinations where each element comes from a different module\n",
    "    index_combinations = itertools.product(range(n), repeat=m)\n",
    "    \n",
    "    # Calculate the sum of probabilities for each combination\n",
    "    prob_sums = []\n",
    "    for combination in index_combinations:\n",
    "        prob_sum = sum(prob_matrix[combination[i], i] for i in range(m))\n",
    "        prob_sums.append(prob_sum)\n",
    "    \n",
    "    return np.array(prob_sums)\n",
    "\n",
    "# Example usage\n",
    "prob_matrix = np.array([[0., 0.1, 0.2],\n",
    "                        [0.4, 0.0, 5.0],\n",
    "                        [0.6, 1.1, 0.0]])\n",
    "\n",
    "result = sum_probabilities(prob_matrix)\n",
    "print(result.shape)\n",
    "print(result)\n",
    "\n"
   ]
  },
  {
   "cell_type": "code",
   "execution_count": 23,
   "metadata": {},
   "outputs": [
    {
     "name": "stdout",
     "output_type": "stream",
     "text": [
      "Probability Sums: [0.6 0.9 1.2 0.9 1.2 1.5 1.2 1.5 1.8 0.9 1.2 1.5 1.2 1.5 1.8 1.5 1.8 2.1\n",
      " 1.2 1.5 1.8 1.5 1.8 2.1 1.8 2.1 2.4]\n",
      "Maximum Probability Sum: 2.4\n",
      "Indices of Maximum Combination: [2, 2, 2]\n"
     ]
    }
   ],
   "source": [
    "import numpy as np\n",
    "import itertools\n",
    "\n",
    "def sum_probabilities(prob_matrix):\n",
    "    n, m = prob_matrix.shape\n",
    "    # Generate all possible index combinations where each element comes from a different module\n",
    "    index_combinations = list(itertools.product(range(n), repeat=m))\n",
    "    \n",
    "    # Calculate the sum of probabilities for each combination\n",
    "    prob_sums = []\n",
    "    for combination in index_combinations:\n",
    "        prob_sum = sum(prob_matrix[combination[i], i] for i in range(m))\n",
    "        prob_sums.append(prob_sum)\n",
    "    \n",
    "    prob_sums = np.array(prob_sums)\n",
    "    \n",
    "    # Find the maximum probability sum and its corresponding indices\n",
    "    max_prob_sum = np.max(prob_sums)\n",
    "    max_index = np.argmax(prob_sums)\n",
    "    max_combination = index_combinations[max_index]\n",
    "    \n",
    "    # Convert the max_combination to the required format [candidate_index, module_index]\n",
    "    # max_combination_indices = [(max_combination[i], i) for i in range(m)]\n",
    "    max_combination_indices = [max_combination[i] for i in range(m)]\n",
    "    \n",
    "    return prob_sums, max_prob_sum, max_combination_indices\n",
    "\n",
    "# Example usage\n",
    "prob_matrix = np.array([[0.1, 0.2, 0.3],\n",
    "                        [0.4, 0.5, 0.6],\n",
    "                        [0.7, 0.8, 0.9]])\n",
    "\n",
    "prob_sums, max_prob_sum, max_combination_indices = sum_probabilities(prob_matrix)\n",
    "print(\"Probability Sums:\", prob_sums)\n",
    "print(\"Maximum Probability Sum:\", max_prob_sum)\n",
    "print(\"Indices of Maximum Combination:\", max_combination_indices)\n"
   ]
  },
  {
   "cell_type": "code",
   "execution_count": 24,
   "metadata": {},
   "outputs": [
    {
     "name": "stdout",
     "output_type": "stream",
     "text": [
      "Maximum Probability Values: [0.7 0.8 0.9]\n",
      "Indices of Maximum Probabilities: [2 2 2]\n"
     ]
    }
   ],
   "source": [
    "import numpy as np\n",
    "\n",
    "def max_probabilities(prob_matrix):\n",
    "    # Find the maximum probability value for each column\n",
    "    max_prob_values = np.max(prob_matrix, axis=0)\n",
    "    # Find the index of the maximum probability value for each column\n",
    "    max_prob_indices = np.argmax(prob_matrix, axis=0)\n",
    "    \n",
    "    return max_prob_values, max_prob_indices\n",
    "\n",
    "# Example usage\n",
    "prob_matrix = np.array([[0.1, 0.2, 0.3],\n",
    "                        [0.4, 0.5, 0.6],\n",
    "                        [0.7, 0.8, 0.9]])\n",
    "\n",
    "max_prob_values, max_prob_indices = max_probabilities(prob_matrix)\n",
    "print(\"Maximum Probability Values:\", max_prob_values)\n",
    "print(\"Indices of Maximum Probabilities:\", max_prob_indices)\n"
   ]
  },
  {
   "cell_type": "code",
   "execution_count": 27,
   "metadata": {},
   "outputs": [
    {
     "name": "stdout",
     "output_type": "stream",
     "text": [
      "Maximum Probability Values: tensor([0.7000, 0.8000, 0.9000])\n",
      "Indices of Maximum Probabilities: tensor([2, 2, 2])\n"
     ]
    }
   ],
   "source": [
    "# torch version\n",
    "def max_probabilities(prob_matrix):\n",
    "    # Find the maximum probability value for each column\n",
    "    max_prob_values = torch.max(prob_matrix, dim=0).values\n",
    "    # Find the index of the maximum probability value for each column\n",
    "    max_prob_indices = torch.argmax(prob_matrix, dim=0)\n",
    "\n",
    "    return max_prob_values, max_prob_indices\n",
    "\n",
    "# Example usage\n",
    "prob_matrix = torch.tensor([[0.1, 0.2, 0.3],\n",
    "                            [0.4, 0.5, 0.6],\n",
    "                            [0.7, 0.8, 0.9]])\n",
    "\n",
    "max_prob_values, max_prob_indices = max_probabilities(prob_matrix)\n",
    "print(\"Maximum Probability Values:\", max_prob_values)\n",
    "print(\"Indices of Maximum Probabilities:\", max_prob_indices)"
   ]
  },
  {
   "cell_type": "code",
   "execution_count": 32,
   "metadata": {},
   "outputs": [],
   "source": [
    "\n",
    "def read_MAP_indices_max(log_posterior):\n",
    "    '''\n",
    "    log_posterior shape [n_pos, n_phi, M]\n",
    "    Note: we can compress log_posterior from [n_pos, n_phi, n_phi, ..., n_phi] to [n_pos, n_phi, M] \n",
    "            because different modules are independent, covariance matrix is diagonal, \n",
    "            non-diagonal combinations are abandoned.\n",
    "    '''\n",
    "    n_pos, n_phi, M = log_posterior.shape\n",
    "    # initialize max_log_posterior as negative infinity\n",
    "    max_log_posterior = -np.inf\n",
    "    z_est_index = -1.5 # use fractional number make it not index-like for initialization\n",
    "    phi_est_index = np.ones(M) * -1.5 # use fractional number make it not index-like for initialization\n",
    "    for i in range(n_pos):\n",
    "        max_prob_values = np.max(log_posterior[i,:,:], axis=0)\n",
    "        # Find the index of the maximum probability value for each column\n",
    "        max_prob_indices = np.argmax(log_posterior[i,:,:], axis=0)\n",
    "        max_prob_sum = np.sum(max_prob_values)\n",
    "        if max_prob_sum > max_log_posterior:\n",
    "            max_log_posterior = max_prob_sum\n",
    "            z_est_index = i\n",
    "            for j in range(M):\n",
    "                phi_est_index[j] = max_prob_indices[j]\n",
    "    return z_est_index, phi_est_index\n",
    "\n",
    "def read_MAP_indices_max_vec(log_posterior):\n",
    "    '''\n",
    "    log_posterior shape [n_pos, n_phi, M]\n",
    "    Note: we can compress log_posterior from [n_pos, n_phi, n_phi, ..., n_phi] to [n_pos, n_phi, M] \n",
    "            because different modules are independent, covariance matrix is diagonal, \n",
    "            non-diagonal combinations are abandoned.\n",
    "    '''\n",
    "    n_pos, n_phi, M = log_posterior.shape\n",
    "    # Calculate the maximum probability values and their indices for each [n_phi, M] matrix\n",
    "    max_prob_values = np.max(log_posterior, axis=1)\n",
    "    max_prob_indices = np.argmax(log_posterior, axis=1)\n",
    "    # Sum the maximum probability values across the M modules for each position\n",
    "    max_prob_sums = np.sum(max_prob_values, axis=1)\n",
    "    # Find the position with the highest sum of maximum probabilities\n",
    "    z_est_index = np.argmax(max_prob_sums)\n",
    "    max_log_posterior = max_prob_sums[z_est_index]\n",
    "    phi_est_index = max_prob_indices[z_est_index]\n",
    "    \n",
    "    return z_est_index, phi_est_index"
   ]
  },
  {
   "cell_type": "code",
   "execution_count": 33,
   "metadata": {},
   "outputs": [
    {
     "name": "stdout",
     "output_type": "stream",
     "text": [
      "Z Estimated Index: 26\n",
      "Phi Estimated Indices: [3. 3. 4.]\n",
      "Z Estimated Index: 26\n",
      "Phi Estimated Indices: [3 3 4]\n"
     ]
    }
   ],
   "source": [
    "log_posterior = np.random.rand(100, 5, 3)  # Example random log posterior\n",
    "z_est_index, phi_est_index = read_MAP_indices_max(log_posterior)\n",
    "print(\"Z Estimated Index:\", z_est_index)\n",
    "print(\"Phi Estimated Indices:\", phi_est_index)\n",
    "\n",
    "z_est_index, phi_est_index = read_MAP_indices_max_vec(log_posterior)\n",
    "print(\"Z Estimated Index:\", z_est_index)\n",
    "print(\"Phi Estimated Indices:\", phi_est_index)"
   ]
  },
  {
   "cell_type": "code",
   "execution_count": 22,
   "metadata": {},
   "outputs": [
    {
     "name": "stdout",
     "output_type": "stream",
     "text": [
      "expanded_tensor1 shape: torch.Size([3, 3, 3, 3])\n",
      "expanded_tensor2 shape: torch.Size([3, 3, 3, 3])\n",
      "tensor([0, 0, 0])\n",
      "tensor([0, 1, 2])\n"
     ]
    }
   ],
   "source": [
    "import torch\n",
    "\n",
    "# Define the original 1D tensor\n",
    "n_phi = 3  # Example size\n",
    "M = 4  # Example value for M\n",
    "tensor_1d = torch.arange(n_phi)  # Example tensor, e.g., tensor([0, 1, 2, 3])\n",
    "\n",
    "# Expand/repeat to shape [n_phi, n_phi, ..., n_phi] with M n_phi dimensions\n",
    "# Method 1\n",
    "new_shape = (n_phi,) * M  # Create a tuple with M elements, each equal to n_phi\n",
    "# Use view to create the target shape\n",
    "expanded_tensor1 = tensor_1d.expand(new_shape)\n",
    "# print('expanded_tensor1',expanded_tensor1)\n",
    "print('expanded_tensor1 shape:',expanded_tensor1.shape)\n",
    "\n",
    "# Method 2\n",
    "new_shape = (n_phi,) * M\n",
    "expanded_tensor2 = tensor_1d.view((n_phi,) + (1,) * (M-1)).expand((n_phi,) * M)\n",
    "\n",
    "# print('expanded_tensor2',expanded_tensor2)\n",
    "print('expanded_tensor2 shape:',expanded_tensor2.shape)\n",
    "\n",
    "print(expanded_tensor1[:,0,0,0])\n",
    "print(expanded_tensor2[:,0,0,0])"
   ]
  },
  {
   "cell_type": "code",
   "execution_count": 6,
   "metadata": {},
   "outputs": [
    {
     "name": "stdout",
     "output_type": "stream",
     "text": [
      "torch.Size([4, 4, 4])\n"
     ]
    }
   ],
   "source": [
    "import torch\n",
    "\n",
    "n_phi = 4  # Example size\n",
    "tensor_1d = torch.arange(n_phi)  # Example tensor, e.g., tensor([0, 1, 2, 3])\n",
    "\n",
    "# Reshape the tensor to the target shape\n",
    "# We first unsqueeze the tensor to add the necessary dimensions, then expand it\n",
    "target_shape = (n_phi,) * (M)  # We add one extra dimension to prepare for expansion\n",
    "expanded_tensor = tensor_1d.view(n_phi, 1, 1).expand(target_shape)\n",
    "\n",
    "print(expanded_tensor.shape)\n"
   ]
  },
  {
   "cell_type": "code",
   "execution_count": 5,
   "metadata": {},
   "outputs": [
    {
     "name": "stdout",
     "output_type": "stream",
     "text": [
      "(2, 3, 4, 5)\n",
      "[[[[0.5327366  0.11480593 0.71479157 0.19814841 0.88423634]\n",
      "   [0.52995703 0.08362037 0.62838849 0.73335462 0.39867761]\n",
      "   [0.18316769 0.07116311 0.75529286 0.33697866 0.98965596]\n",
      "   [0.1388822  0.31271939 0.26973765 0.91575173 0.40839157]]\n",
      "\n",
      "  [[0.34241974 0.01864925 0.76281074 0.78996726 0.43707759]\n",
      "   [0.78489274 0.41305717 0.84112265 0.51995033 0.3365053 ]\n",
      "   [0.30141437 0.35487992 0.15687012 0.56402792 0.40840798]\n",
      "   [0.42288143 0.65302685 0.34177966 0.49998604 0.73951258]]\n",
      "\n",
      "  [[0.17528032 0.78234869 0.91140511 0.16397892 0.20531616]\n",
      "   [0.43437259 0.15946907 0.98878234 0.82016337 0.32884067]\n",
      "   [0.80875212 0.40833374 0.39924381 0.68418995 0.18962845]\n",
      "   [0.78433334 0.04854868 0.60332843 0.50932853 0.41249328]]]\n",
      "\n",
      "\n",
      " [[[0.5327366  0.11480593 0.71479157 0.19814841 0.88423634]\n",
      "   [0.52995703 0.08362037 0.62838849 0.73335462 0.39867761]\n",
      "   [0.18316769 0.07116311 0.75529286 0.33697866 0.98965596]\n",
      "   [0.1388822  0.31271939 0.26973765 0.91575173 0.40839157]]\n",
      "\n",
      "  [[0.34241974 0.01864925 0.76281074 0.78996726 0.43707759]\n",
      "   [0.78489274 0.41305717 0.84112265 0.51995033 0.3365053 ]\n",
      "   [0.30141437 0.35487992 0.15687012 0.56402792 0.40840798]\n",
      "   [0.42288143 0.65302685 0.34177966 0.49998604 0.73951258]]\n",
      "\n",
      "  [[0.17528032 0.78234869 0.91140511 0.16397892 0.20531616]\n",
      "   [0.43437259 0.15946907 0.98878234 0.82016337 0.32884067]\n",
      "   [0.80875212 0.40833374 0.39924381 0.68418995 0.18962845]\n",
      "   [0.78433334 0.04854868 0.60332843 0.50932853 0.41249328]]]]\n"
     ]
    }
   ],
   "source": [
    "import numpy as np\n",
    "# give a 3D array\n",
    "fg = np.random.rand(3, 4, 5)\n",
    "T = 2\n",
    "# I_grid = np.repeat(fg[np.newaxis, :, :], T, axis=0)\n",
    "I_grid = np.repeat(fg[np.newaxis, :], T, axis=0)\n",
    "print(I_grid.shape)\n",
    "print(I_grid)"
   ]
  },
  {
   "cell_type": "code",
   "execution_count": 6,
   "metadata": {},
   "outputs": [
    {
     "name": "stdout",
     "output_type": "stream",
     "text": [
      "[[[[0.5327366  0.11480593 0.71479157 0.19814841 0.88423634]\n",
      "   [0.52995703 0.08362037 0.62838849 0.73335462 0.39867761]\n",
      "   [0.18316769 0.07116311 0.75529286 0.33697866 0.98965596]\n",
      "   [0.1388822  0.31271939 0.26973765 0.91575173 0.40839157]]\n",
      "\n",
      "  [[0.34241974 0.01864925 0.76281074 0.78996726 0.43707759]\n",
      "   [0.78489274 0.41305717 0.84112265 0.51995033 0.3365053 ]\n",
      "   [0.30141437 0.35487992 0.15687012 0.56402792 0.40840798]\n",
      "   [0.42288143 0.65302685 0.34177966 0.49998604 0.73951258]]\n",
      "\n",
      "  [[0.17528032 0.78234869 0.91140511 0.16397892 0.20531616]\n",
      "   [0.43437259 0.15946907 0.98878234 0.82016337 0.32884067]\n",
      "   [0.80875212 0.40833374 0.39924381 0.68418995 0.18962845]\n",
      "   [0.78433334 0.04854868 0.60332843 0.50932853 0.41249328]]]\n",
      "\n",
      "\n",
      " [[[0.         0.         0.         0.         0.        ]\n",
      "   [0.         0.         0.         0.         0.        ]\n",
      "   [0.         0.         0.         0.         0.        ]\n",
      "   [0.         0.         0.         0.         0.        ]]\n",
      "\n",
      "  [[0.         0.         0.         0.         0.        ]\n",
      "   [0.         0.         0.         0.         0.        ]\n",
      "   [0.         0.         0.         0.         0.        ]\n",
      "   [0.         0.         0.         0.         0.        ]]\n",
      "\n",
      "  [[0.         0.         0.         0.         0.        ]\n",
      "   [0.         0.         0.         0.         0.        ]\n",
      "   [0.         0.         0.         0.         0.        ]\n",
      "   [0.         0.         0.         0.         0.        ]]]]\n"
     ]
    }
   ],
   "source": [
    "len_Igrid = I_grid.shape[0]\n",
    "I_grid[int(len_Igrid/2):,:] = 0\n",
    "print(I_grid)"
   ]
  }
 ],
 "metadata": {
  "kernelspec": {
   "display_name": "mytorch",
   "language": "python",
   "name": "python3"
  },
  "language_info": {
   "codemirror_mode": {
    "name": "ipython",
    "version": 3
   },
   "file_extension": ".py",
   "mimetype": "text/x-python",
   "name": "python",
   "nbconvert_exporter": "python",
   "pygments_lexer": "ipython3",
   "version": "3.11.4"
  }
 },
 "nbformat": 4,
 "nbformat_minor": 2
}
