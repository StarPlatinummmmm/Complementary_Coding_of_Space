{
 "cells": [
  {
   "cell_type": "code",
   "execution_count": 53,
   "metadata": {},
   "outputs": [],
   "source": [
    "import numpy as np\n",
    "import matplotlib.pyplot as plt\n",
    "import torch\n",
    "import torch.nn as nn\n",
    "import math"
   ]
  },
  {
   "cell_type": "code",
   "execution_count": 54,
   "metadata": {},
   "outputs": [
    {
     "name": "stdout",
     "output_type": "stream",
     "text": [
      "number of place cells: 12800\n",
      "place cell width: 0.025\n",
      "number of grid cells in each module: [402, 402, 402, 402]\n",
      "grid spacing: tensor([1.0000, 0.7071, 0.5000, 0.3536])\n",
      "normalized grid spacing: tensor([0.1592, 0.1125, 0.0796, 0.0563])\n",
      "grid cell width by second method: tensor([0.1571, 0.2221, 0.3142, 0.4443])\n"
     ]
    }
   ],
   "source": [
    "# environment information\n",
    "track_len = 10000 # m\n",
    "\n",
    "# place cell information\n",
    "rho_p = 20/2 # place cell density \n",
    "# 1/rho_p is the average distance between two place cells\n",
    "n_p = int(rho_p * track_len) # number of place cells\n",
    "print('number of place cells:', n_p)\n",
    "print('Place cell interval:', track_len/n_p)\n",
    "a_p = 0.4 # place cell width\n",
    "print('place cell width:', a_p)\n",
    "# grid cell information\n",
    "rho_g = 20/2 # grid cell density\n",
    "n_g = int(rho_g * 2 * math.pi)\n",
    "rho_g = n_g / (2 * math.pi) # grid cell density\n",
    "n_module = 4 # number of modules\n",
    "n_gs = [n_g] * n_module # number of grid cells in each module\n",
    "print('number of grid cells in each module:', n_gs)\n",
    "print('Grid cell interval', 2 * math.pi/n_g)\n",
    "# first method to set the grid spacing, using irrational number\n",
    "# lambda_gs = [1., 1/math.sqrt(2), 1/2, 1/(2*math.sqrt(2))] # grid spacing\n",
    "# second method to set the grid spacing, using rational number\n",
    "lambda_gs = [23, 14, 8, 5] # grid spacing\n",
    "lambda_gs = torch.tensor(lambda_gs)\n",
    "print('grid spacing:', lambda_gs)\n",
    "lambda_gs_star = lambda_gs/ (2*math.pi)   # normalized grid spacing\n",
    "print('normalized grid spacing:', lambda_gs_star)\n",
    "# two ways to set the width of grid cell width\n",
    "# first method: set the width of grid cell to be the same as place cell\n",
    "# a_gs = [a_p] * n_module\n",
    "# print('grid cell width by first method:', a_gs)\n",
    "# second method: a_gs = a_p / lambda_gs_star\n",
    "a_gs = a_p / lambda_gs_star\n",
    "print('grid cell width by second method:', a_gs)\n"
   ]
  },
  {
   "cell_type": "code",
   "execution_count": 55,
   "metadata": {},
   "outputs": [],
   "source": [
    "# Place cell\n",
    "class PlaceCell(nn.Module):\n",
    "    def __init__(self, n_p, a_p, track_len):\n",
    "        super(PlaceCell, self).__init__()\n",
    "        self.n_p = n_p\n",
    "        self.a_p = a_p\n",
    "        self.track_len = track_len\n",
    "        # self.mu_p = torch.linspace(0, track_len, n_p+1)[:-1]\n",
    "        # uniformly distributed place cells\n",
    "        self.mu_p = torch.linspace(0, track_len, n_p+1)[:-1] + 0.5 * track_len / n_p\n",
    "\n",
    "    def forward(self, x):\n",
    "        # get postion x, get the activation of place cells\n",
    "        # x is a scalar for position\n",
    "        # calculate the activation of place cells\n",
    "        activation = torch.exp(-0.5 * (x - self.mu_p)**2 / self.a_p**2)\n",
    "        return activation\n",
    "\n",
    "PlaceCellModel = PlaceCell(n_p, a_p, track_len)\n",
    "\n"
   ]
  },
  {
   "cell_type": "code",
   "execution_count": 56,
   "metadata": {},
   "outputs": [
    {
     "data": {
      "image/png": "[encoded data removed]",
      "text/plain": [
       "<Figure size 640x480 with 1 Axes>"
      ]
     },
     "metadata": {},
     "output_type": "display_data"
    }
   ],
   "source": [
    "# test place cell\n",
    "x = torch.tensor([5.])\n",
    "activation = PlaceCellModel(x)\n",
    "mu_p = PlaceCellModel.mu_p\n",
    "plt.figure()\n",
    "plt.plot(mu_p.detach().numpy(), activation.detach().numpy())\n",
    "plt.title('Place Cell Activation')\n",
    "plt.xlabel('Position(m)')\n",
    "plt.ylabel('Activation')\n",
    "plt.show()"
   ]
  },
  {
   "cell_type": "code",
   "execution_count": 57,
   "metadata": {},
   "outputs": [],
   "source": [
    "# Grid cell\n",
    "class GridCellModules(nn.Module):\n",
    "    def __init__(self, n_g, n_module, a_gs, lambda_gs,lambda_gs_star, track_len):\n",
    "        super(GridCellModules, self).__init__()\n",
    "        self.n_g = n_g\n",
    "        self.n_module = n_module\n",
    "        self.n_g_all = n_g * n_module\n",
    "        self.a_gs = a_gs\n",
    "        self.lambda_gs = lambda_gs\n",
    "        self.lambda_gs_star = lambda_gs_star # lambda_gs_star = 1/ (2*math.pi) * lambda_gs\n",
    "        self.track_len = track_len\n",
    "        self.phase_len = 2 * math.pi\n",
    "        self.mu_g = torch.linspace(0, self.phase_len, n_g + 1)[:-1] + 0.5 * self.phase_len / n_g\n",
    "\n",
    "    def dist(self, d):\n",
    "        d = abs(d)\n",
    "        d = torch.where(d>math.pi,2*math.pi-d, d)\n",
    "        return d\n",
    "\n",
    "    def forward(self, x):\n",
    "        # get postion x, get the activation of grid cells\n",
    "        # calculate the activation of grid cells\n",
    "        activation = torch.zeros(self.n_g_all)\n",
    "        for i in range(n_module):\n",
    "            phase = torch.fmod(x / self.lambda_gs_star[i], self.phase_len)\n",
    "            distance = self.dist(phase - self.mu_g)\n",
    "            activation[i*self.n_g:(i+1)*self.n_g] = torch.exp(-0.5 * distance**2 / self.a_gs[i]**2)\n",
    "        return activation\n",
    "    \n",
    "\n",
    "GridCellModel = GridCellModules(n_g, n_module, a_gs, lambda_gs, lambda_gs_star, track_len)\n",
    "\n"
   ]
  },
  {
   "cell_type": "code",
   "execution_count": 58,
   "metadata": {},
   "outputs": [],
   "source": [
    "# # test grid cell\n",
    "# x = torch.tensor([5.])\n",
    "# activation = GridCellModel(x)\n",
    "# mu_g = GridCellModel.mu_g\n",
    "# # 2 * 2 subplot for 4 modules\n",
    "# fig, axs = plt.subplots(2, 2, figsize=(10, 10))\n",
    "# for i in range(n_module):\n",
    "#     ax = axs[i//2, i%2]\n",
    "#     ax.plot(mu_g.detach().numpy(),activation[i*n_g:(i+1)*n_g].detach().numpy())\n",
    "#     ax.set_title('Module %d' % i)\n",
    "#     ax.set_xlabel('Phase(rad)')\n",
    "#     ax.set_ylabel('Activation')\n",
    "    "
   ]
  },
  {
   "cell_type": "code",
   "execution_count": 59,
   "metadata": {},
   "outputs": [],
   "source": [
    "# the encoding probability distribution for one position\n",
    "pos = torch.tensor([40.0])"
   ]
  },
  {
   "cell_type": "code",
   "execution_count": 60,
   "metadata": {},
   "outputs": [],
   "source": [
    "# place cell\n",
    "activation_p = PlaceCellModel(pos) \n",
    "mu_p = PlaceCellModel.mu_p\n"
   ]
  },
  {
   "cell_type": "code",
   "execution_count": 61,
   "metadata": {},
   "outputs": [
    {
     "name": "stdout",
     "output_type": "stream",
     "text": [
      "len activation_p 12800\n"
     ]
    }
   ],
   "source": [
    "print('len activation_p', len(activation_p))"
   ]
  },
  {
   "cell_type": "code",
   "execution_count": 62,
   "metadata": {},
   "outputs": [],
   "source": [
    "# grid cell\n",
    "activation_g = GridCellModel(pos)\n",
    "mu_g = GridCellModel.mu_g\n",
    "# module 0\n",
    "activation_g0 = activation_g[:n_g]\n",
    "lambda_g0 = lambda_gs[0]\n",
    "# module 1\n",
    "activation_g1 = activation_g[n_g:2*n_g]\n",
    "lambda_g1 = lambda_gs[1]\n",
    "# module 2\n",
    "lambda_g2 = lambda_gs[2]\n",
    "activation_g2 = activation_g[2*n_g:3*n_g]\n",
    "# module 3\n",
    "lambda_g3 = lambda_gs[3]\n",
    "activation_g3 = activation_g[3*n_g:4*n_g]\n"
   ]
  },
  {
   "cell_type": "code",
   "execution_count": 63,
   "metadata": {},
   "outputs": [],
   "source": [
    "def premap_phase_to_position(n_g, track_len, lambda_g, mu_g):\n",
    "    lambda_g_star = lambda_g / (2 * math.pi)\n",
    "    mapped_phase_pos = []\n",
    "    mapped_phase_indices = []\n",
    "    max_k = int(track_len / lambda_g) + 1\n",
    "    flag_exceed = False\n",
    "    for k in range(max_k):\n",
    "        if flag_exceed == True:\n",
    "            break\n",
    "        for i in range(n_g):\n",
    "            position = (mu_g[i] + k * 2 * math.pi) * lambda_g_star\n",
    "            if position > track_len:\n",
    "                flag_exceed = True\n",
    "                break\n",
    "            mapped_phase_pos.append(position)\n",
    "            mapped_phase_indices.append(i)\n",
    "    mapped_phase_pos = torch.tensor(mapped_phase_pos)\n",
    "    mapped_phase_indices = torch.tensor(mapped_phase_indices)\n",
    "    return mapped_phase_pos, mapped_phase_indices\n",
    "\n",
    "mapped_phase_pos_g0, mapped_phase_indices_g0 = premap_phase_to_position(n_g, track_len, lambda_g0, mu_g)\n",
    "mapped_phase_pos_g1, mapped_phase_indices_g1 = premap_phase_to_position(n_g, track_len, lambda_g1, mu_g)\n",
    "mapped_phase_pos_g2, mapped_phase_indices_g2 = premap_phase_to_position(n_g, track_len, lambda_g2, mu_g)\n",
    "mapped_phase_pos_g3, mapped_phase_indices_g3 = premap_phase_to_position(n_g, track_len, lambda_g3, mu_g)\n",
    "\n",
    "\n",
    "def map_phase_to_position(n_g, track_len, lambda_g, activation_g, mapped_phase_indices):\n",
    "    # n_g_pos = int(n_g * track_len / lambda_g)\n",
    "    n_g_pos = len(mapped_phase_indices)\n",
    "    # if n_g_pos != len(mapped_phase_indices):\n",
    "    #     assert 'error'\n",
    "    activation_g_pos = torch.zeros(n_g_pos)\n",
    "    if n_g != len(activation_g):\n",
    "        assert 'error'\n",
    "    for i in range(n_g):  # Iterate over all given activations\n",
    "        phase_indices = (mapped_phase_indices == i)  # Find all position indices corresponding to this phase index\n",
    "        if phase_indices.any():\n",
    "            activation_g_pos[phase_indices] = activation_g[i]  # Assign the activation value to these positions\n",
    "\n",
    "    return activation_g_pos\n",
    "\n",
    "activation_g0_pos = map_phase_to_position(n_g, track_len, lambda_g0, activation_g0, mapped_phase_indices_g0)\n",
    "activation_g1_pos = map_phase_to_position(n_g, track_len, lambda_g1, activation_g1, mapped_phase_indices_g1)\n",
    "activation_g2_pos = map_phase_to_position(n_g, track_len, lambda_g2, activation_g2, mapped_phase_indices_g2)\n",
    "activation_g3_pos = map_phase_to_position(n_g, track_len, lambda_g3, activation_g3, mapped_phase_indices_g3)"
   ]
  },
  {
   "cell_type": "code",
   "execution_count": 64,
   "metadata": {},
   "outputs": [
    {
     "name": "stdout",
     "output_type": "stream",
     "text": [
      "len activation_g0_pos 40200\n",
      "len activation_g1_pos 56851\n",
      "len activation_g2_pos 80400\n"
     ]
    }
   ],
   "source": [
    "print('len activation_g0_pos', len(activation_g0_pos))\n",
    "print('len activation_g1_pos', len(activation_g1_pos))\n",
    "print('len activation_g2_pos', len(activation_g2_pos))\n",
    "# print('len activation_g3_pos', len(activation_g3_pos))"
   ]
  },
  {
   "cell_type": "code",
   "execution_count": 65,
   "metadata": {},
   "outputs": [],
   "source": [
    "# # test grid cell in position space\n",
    "\n",
    "# fig, axs = plt.subplots(2, 2, figsize=(10, 10))\n",
    "# for i in range(n_module):\n",
    "#     ax = axs[i//2, i%2]\n",
    "#     if i == 0:\n",
    "#         mapped_phase_pos_np = mapped_phase_pos_g0.detach().numpy()\n",
    "#         activation_g_pos_np = activation_g0_pos.detach().numpy()\n",
    "#     elif i == 1:\n",
    "#         mapped_phase_pos_np = mapped_phase_pos_g1.detach().numpy()\n",
    "#         activation_g_pos_np = activation_g1_pos.detach().numpy()\n",
    "#     elif i == 2:\n",
    "#         mapped_phase_pos_np = mapped_phase_pos_g2.detach().numpy()\n",
    "#         activation_g_pos_np = activation_g2_pos.detach().numpy()\n",
    "#     elif i == 3:\n",
    "#         mapped_phase_pos_np = mapped_phase_pos_g3.detach().numpy()\n",
    "#         activation_g_pos_np = activation_g3_pos.detach().numpy()\n",
    "#     else:\n",
    "#         assert 'error'\n",
    "\n",
    "#     ax.plot(mapped_phase_pos_np, activation_g_pos_np)\n",
    "#     ax.set_title('Module %d' % i)\n",
    "#     ax.set_xlabel('Position(m)')\n",
    "#     ax.set_ylabel('Activation')\n"
   ]
  },
  {
   "cell_type": "code",
   "execution_count": 66,
   "metadata": {},
   "outputs": [],
   "source": [
    "# We assume population code, activation is the belief of position\n",
    "# Remark: len(activation_p) < len(activation_g0_pos) < len(activation_g1_pos) < len(activation_g2_pos) < len(activation_g3_pos)\n",
    "# So, to maintain in the same solution, we use pos_candidate = mu_p\n",
    "pos_candidate = mu_p"
   ]
  },
  {
   "cell_type": "code",
   "execution_count": 67,
   "metadata": {},
   "outputs": [],
   "source": [
    "def inverse_distance_weighting(x, activations, x_k, p=2):\n",
    "    # x: array of positions of data points\n",
    "    # activations: array of activities of data points\n",
    "    # x_k: query x-coordinate\n",
    "    # p: power parameter for inverse distance weighting\n",
    "    \n",
    "    # Calculate distances from the query point x_k\n",
    "    # distances = np.abs(x - x_k)\n",
    "    distances = torch.abs(x - x_k)\n",
    "    \n",
    "    # Avoid division by zero for the exact locations\n",
    "    distances[distances == 0] = 1e-10\n",
    "    distances[distances > 0.1] = 1e10\n",
    "    \n",
    "    # Calculate weights\n",
    "    weights = 1 / distances**p\n",
    "    \n",
    "    # Compute weighted average\n",
    "    # activations_k = np.sum(weights * activations) / np.sum(weights)\n",
    "    activations_k = torch.sum(weights * activations) / torch.sum(weights)\n",
    "    return activations_k\n",
    "\n",
    "# For grid cells, interpolate activations for pos_candidate by mapped_phase_pos_g and activation_g_pos\n",
    "# module 0\n",
    "activation_g0_pos_candidate = torch.zeros(len(pos_candidate))\n",
    "for i in range(len(pos_candidate)):\n",
    "    activation_g0_pos_candidate[i] = inverse_distance_weighting(mapped_phase_pos_g0, activation_g0_pos, pos_candidate[i])\n",
    "\n",
    "# module 1\n",
    "activation_g1_pos_candidate = torch.zeros(len(pos_candidate))\n",
    "for i in range(len(pos_candidate)):\n",
    "    activation_g1_pos_candidate[i] = inverse_distance_weighting(mapped_phase_pos_g1, activation_g1_pos, pos_candidate[i])\n",
    "\n",
    "# module 2\n",
    "activation_g2_pos_candidate = torch.zeros(len(pos_candidate))\n",
    "for i in range(len(pos_candidate)):\n",
    "    activation_g2_pos_candidate[i] = inverse_distance_weighting(mapped_phase_pos_g2, activation_g2_pos, pos_candidate[i])\n",
    "\n",
    "# module 3\n",
    "activation_g3_pos_candidate = torch.zeros(len(pos_candidate))\n",
    "for i in range(len(pos_candidate)):\n",
    "    activation_g3_pos_candidate[i] = inverse_distance_weighting(mapped_phase_pos_g3, activation_g3_pos, pos_candidate[i])"
   ]
  },
  {
   "cell_type": "code",
   "execution_count": 68,
   "metadata": {},
   "outputs": [],
   "source": [
    "# # test grid cell in position space after interpolation\n",
    "\n",
    "# fig, axs = plt.subplots(2, 2, figsize=(10, 10))\n",
    "# for i in range(n_module):\n",
    "#     ax = axs[i//2, i%2]\n",
    "#     pos_candidate_np = pos_candidate.detach().numpy()\n",
    "#     if i == 0:\n",
    "#         activation_g_pos_np = activation_g0_pos_candidate.detach().numpy()\n",
    "#     elif i == 1:\n",
    "#         activation_g_pos_np = activation_g1_pos_candidate.detach().numpy()\n",
    "#     elif i == 2:\n",
    "#         activation_g_pos_np = activation_g2_pos_candidate.detach().numpy()\n",
    "#     elif i == 3:\n",
    "#         activation_g_pos_np = activation_g3_pos_candidate.detach().numpy()\n",
    "#     else:\n",
    "#         assert 'error'\n",
    "\n",
    "#     ax.plot(pos_candidate_np, activation_g_pos_np)\n",
    "#     ax.set_title('Module %d' % i)\n",
    "#     ax.set_xlabel('Position(m)')\n",
    "#     ax.set_ylabel('Activation')\n"
   ]
  },
  {
   "cell_type": "code",
   "execution_count": 69,
   "metadata": {},
   "outputs": [],
   "source": [
    "def prob_pos_r(activation_pos):\n",
    "    '''\n",
    "    p(x|r) = p(r|x)p(x)/p(r), now p(x) is uniform prior, p(r) is a constant\n",
    "    Population Code\n",
    "    '''\n",
    "    prob_pos = activation_pos / torch.sum(activation_pos)\n",
    "    return prob_pos\n",
    "\n",
    "# place cell\n",
    "prob_pos_p = prob_pos_r(activation_p)\n",
    "\n",
    "# grid cell\n",
    "# module 0\n",
    "prob_pos_g0 = prob_pos_r(activation_g0_pos_candidate)\n",
    "# module 1\n",
    "prob_pos_g1 = prob_pos_r(activation_g1_pos_candidate)\n",
    "# module 2\n",
    "prob_pos_g2 = prob_pos_r(activation_g2_pos_candidate)\n",
    "# module 3\n",
    "prob_pos_g3 = prob_pos_r(activation_g3_pos_candidate)"
   ]
  },
  {
   "cell_type": "code",
   "execution_count": 70,
   "metadata": {},
   "outputs": [],
   "source": [
    "# # test grid cell in position space after interpolation\n",
    "\n",
    "# fig, axs = plt.subplots(2, 2, figsize=(10, 10))\n",
    "# for i in range(n_module):\n",
    "#     ax = axs[i//2, i%2]\n",
    "#     pos_candidate_np = pos_candidate.detach().numpy()\n",
    "#     if i == 0:\n",
    "#         prob_g_pos_np = prob_pos_g0.detach().numpy()\n",
    "#     elif i == 1:\n",
    "#         prob_g_pos_np = prob_pos_g1.detach().numpy()\n",
    "#     elif i == 2:\n",
    "#         prob_g_pos_np = prob_pos_g2.detach().numpy()\n",
    "#     elif i == 3:\n",
    "#         prob_g_pos_np = prob_pos_g3.detach().numpy()\n",
    "#     else:\n",
    "#         assert 'error'\n",
    "\n",
    "#     ax.plot(pos_candidate_np, prob_g_pos_np)\n",
    "#     ax.set_title('Module %d' % i)\n",
    "#     ax.set_xlabel('Position(m)')\n",
    "#     ax.set_ylabel('Prob')\n"
   ]
  },
  {
   "cell_type": "code",
   "execution_count": 71,
   "metadata": {},
   "outputs": [],
   "source": [
    "# For grid cell, position is jointly encoded by all modules\n",
    "# p(x) = p(x|g0)p(x|g1)p(x|g2)p(x|g3)\n",
    "\n",
    "prob_pos_g = prob_pos_g0 * prob_pos_g1 * prob_pos_g2 * prob_pos_g3\n",
    "prob_pos_g = prob_pos_g / torch.sum(prob_pos_g)\n",
    "\n",
    "# activation_pos_g = activation_g0_pos_candidate * activation_g1_pos_candidate * activation_g2_pos_candidate * activation_g3_pos_candidate\n",
    "# prob_pos_g = prob_pos_r(activation_pos_g)"
   ]
  },
  {
   "cell_type": "code",
   "execution_count": 72,
   "metadata": {},
   "outputs": [
    {
     "data": {
      "image/png": "[encoded data removed]",
      "text/plain": [
       "<Figure size 640x480 with 1 Axes>"
      ]
     },
     "metadata": {},
     "output_type": "display_data"
    }
   ],
   "source": [
    "# plot the probability of place cell and grid cell in the same figure for comparison\n",
    "plt.figure()\n",
    "plt.plot(pos_candidate.detach().numpy(), prob_pos_p.detach().numpy(), label='Place Cell')\n",
    "plt.plot(pos_candidate.detach().numpy(), prob_pos_g.detach().numpy(), label='Grid Cell')\n",
    "plt.legend()\n",
    "plt.title('Encoding Probability of PC and GC')\n",
    "plt.xlabel('Position(m)')\n",
    "plt.ylabel('Probability')\n",
    "plt.show()"
   ]
  },
  {
   "cell_type": "code",
   "execution_count": 73,
   "metadata": {},
   "outputs": [
    {
     "name": "stdout",
     "output_type": "stream",
     "text": [
      "max_index_g: tensor(5119)\n",
      "max_index_p: tensor(5119)\n"
     ]
    }
   ],
   "source": [
    "# get the index of the maximum probability\n",
    "max_index_g = torch.argmax(prob_pos_g)\n",
    "print('max_index_g:', max_index_g)\n",
    "max_index_p = torch.argmax(prob_pos_p)\n",
    "print('max_index_p:', max_index_p)"
   ]
  },
  {
   "cell_type": "code",
   "execution_count": 74,
   "metadata": {},
   "outputs": [
    {
     "name": "stdout",
     "output_type": "stream",
     "text": [
      "topk_g: torch.return_types.topk(\n",
      "values=tensor([0.0271, 0.0270, 0.0266, 0.0264, 0.0246, 0.0230, 0.0226, 0.0225, 0.0219,\n",
      "        0.0217]),\n",
      "indices=tensor([ 5119,  5120,  8831,  1408, 10368, 10369,  1409,  8830, 12542,  8832]))\n"
     ]
    }
   ],
   "source": [
    "# get the top 10 maximum probability\n",
    "topk_g = torch.topk(prob_pos_g, 10)\n",
    "print('topk_g:', topk_g)"
   ]
  }
 ],
 "metadata": {
  "kernelspec": {
   "display_name": "mytorch",
   "language": "python",
   "name": "python3"
  },
  "language_info": {
   "codemirror_mode": {
    "name": "ipython",
    "version": 3
   },
   "file_extension": ".py",
   "mimetype": "text/x-python",
   "name": "python",
   "nbconvert_exporter": "python",
   "pygments_lexer": "ipython3",
   "version": "3.10.10"
  }
 },
 "nbformat": 4,
 "nbformat_minor": 2
}
